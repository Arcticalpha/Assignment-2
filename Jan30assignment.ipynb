{
 "cells": [
  {
   "cell_type": "code",
   "execution_count": 4,
   "id": "e8212caa-7fc3-42d4-a86f-0c4ec00635e3",
   "metadata": {},
   "outputs": [
    {
     "name": "stdin",
     "output_type": "stream",
     "text": [
      "Enter the percentage: 50\n"
     ]
    },
    {
     "name": "stdout",
     "output_type": "stream",
     "text": [
      "D\n"
     ]
    }
   ],
   "source": [
    "#Ans 1)\n",
    "percentage = int(input(\"Enter the percentage:\"))\n",
    "if percentage > 90:\n",
    "    print(\"A\")\n",
    "elif percentage > 80 and  percentage <= 90:\n",
    "    print(\"B\")\n",
    "elif percentage >= 60 and percentage <= 80:\n",
    "    print(\"C\")\n",
    "else:\n",
    "    print(\"D\")\n",
    "    "
   ]
  },
  {
   "cell_type": "code",
   "execution_count": 5,
   "id": "ea90871c-a4d6-4d77-8f45-0b17be2ab191",
   "metadata": {},
   "outputs": [
    {
     "name": "stdin",
     "output_type": "stream",
     "text": [
      "Enter the cost of the bike: 60000\n"
     ]
    },
    {
     "name": "stdout",
     "output_type": "stream",
     "text": [
      "The road tax to be paid is :  6000.0\n"
     ]
    }
   ],
   "source": [
    "#Ans 2)\n",
    "cost = int(input(\"Enter the cost of the bike:\"))\n",
    "if cost > 100000:\n",
    "    tax = 0.15\n",
    "elif cost > 50000 and cost <=100000:\n",
    "    tax = 0.10\n",
    "elif cost <= 50000:\n",
    "    tax = 0.05\n",
    "road_tax = tax * cost\n",
    "print(\"The road tax to be paid is : \",road_tax)\n",
    "    "
   ]
  },
  {
   "cell_type": "code",
   "execution_count": 8,
   "id": "87de0018-7401-43b4-bdf7-54f879032263",
   "metadata": {},
   "outputs": [
    {
     "name": "stdin",
     "output_type": "stream",
     "text": [
      "Enter the city: agra\n"
     ]
    },
    {
     "name": "stdout",
     "output_type": "stream",
     "text": [
      "Taj Mahal\n"
     ]
    }
   ],
   "source": [
    "#Ans 3)\n",
    "\n",
    "city = input(\"Enter the city:\")\n",
    "if city == \"Delhi\" or city == \"delhi\":\n",
    "    print(\"Red Fort\")\n",
    "elif city == \"Agra\" or city == \"agra\":\n",
    "    print(\"Taj Mahal\")\n",
    "elif city == \"Jaipur\" or city == \"jaipur\":\n",
    "    print(\"Jal Mahal\")\n",
    "    "
   ]
  },
  {
   "cell_type": "code",
   "execution_count": 12,
   "id": "51b47c12-bc53-4849-b835-e3c314d1e18b",
   "metadata": {},
   "outputs": [
    {
     "name": "stdin",
     "output_type": "stream",
     "text": [
      "Enter the number:  100\n"
     ]
    },
    {
     "name": "stdout",
     "output_type": "stream",
     "text": [
      "The number 100 can be divided  3 times by 3 before it is less than 10.\n"
     ]
    }
   ],
   "source": [
    "#Ans 4)\n",
    "n = int(input(\"Enter the number: \"))\n",
    "count = 0 \n",
    "temp =n\n",
    "\n",
    "while n >= 10:\n",
    "    n = n / 3\n",
    "    count += 1\n",
    "\n",
    "print(\"The number\",temp,\"can be divided \", count, \"times by 3 before it is less than 10.\")\n"
   ]
  },
  {
   "cell_type": "markdown",
   "id": "681c507c-1c64-4e52-b44b-f23bda842d9f",
   "metadata": {},
   "source": [
    "Ans 5)\n",
    "\n",
    "* A while loop is a control flow statement that allows us to repeatedly execute a block of code as long as a condition is true. The loop continues until the condition becomes false.\n",
    "\n",
    "* We use a while loop when we don't know how many times we need to execute a block of code in advance, or when we need to repeat a task until a certain condition is met. For example, we might use a while loop to repeatedly ask the user for input until they enter a valid value.\n",
    "\n",
    "* Here is an example of a while loop that asks the user to enter a number between 1 and 10:\n"
   ]
  },
  {
   "cell_type": "code",
   "execution_count": 13,
   "id": "3d850d9f-b78b-4074-b72b-b52844ebca51",
   "metadata": {},
   "outputs": [
    {
     "name": "stdin",
     "output_type": "stream",
     "text": [
      "Enter a number between 1 and 10:  5\n"
     ]
    },
    {
     "name": "stdout",
     "output_type": "stream",
     "text": [
      "You entered 5\n"
     ]
    }
   ],
   "source": [
    "num = int(input(\"Enter a number between 1 and 10: \"))\n",
    "\n",
    "while num < 1 or num > 10:\n",
    "    print(\"Invalid number. Please try again.\")\n",
    "    num = int(input(\"Enter a number between 1 and 10: \"))\n",
    "\n",
    "print(\"You entered\", num)\n"
   ]
  },
  {
   "cell_type": "markdown",
   "id": "faa8e7aa-5811-4007-b3b4-68685bbafdf6",
   "metadata": {},
   "source": [
    "* In this example, we first ask the user for a number between 1 and 10. Then, we use a while loop to repeatedly prompt the user for input until a valid number is entered. \n",
    "* The loop condition checks whether the number is less than 1 or greater than 10. \n",
    "* If the user enters an invalid number, we print an error message and ask for input again. \n",
    "* If the user enters a valid number, we exit the loop and print the number."
   ]
  },
  {
   "cell_type": "code",
   "execution_count": 14,
   "id": "ef5581b8-bad7-49f9-832e-58dd4f506265",
   "metadata": {},
   "outputs": [
    {
     "name": "stdout",
     "output_type": "stream",
     "text": [
      "1\n",
      "12\n",
      "123\n",
      "1234\n",
      "12345\n"
     ]
    }
   ],
   "source": [
    "#Ans 6)\n",
    "\n",
    "#pattern 1:\n",
    "\n",
    "i = 1\n",
    "while i <= 5:\n",
    "    j = 1\n",
    "    while j <= i:\n",
    "        print(j, end='')\n",
    "        j += 1\n",
    "    print()\n",
    "    i += 1\n"
   ]
  },
  {
   "cell_type": "code",
   "execution_count": 16,
   "id": "55728e10-7751-4d68-987d-daf356c08280",
   "metadata": {},
   "outputs": [
    {
     "name": "stdout",
     "output_type": "stream",
     "text": [
      "12345\n",
      "1234\n",
      "123\n",
      "12\n",
      "1\n"
     ]
    }
   ],
   "source": [
    "#pattern 2:\n",
    "i = 5\n",
    "while i >= 1:\n",
    "    j = 1\n",
    "    while j <= i:\n",
    "        print(j, end='')\n",
    "        j += 1\n",
    "    print()\n",
    "    i -= 1\n"
   ]
  },
  {
   "cell_type": "code",
   "execution_count": 1,
   "id": "bfc5b7d1-f43d-4ba3-b444-ece449fc215a",
   "metadata": {},
   "outputs": [
    {
     "name": "stdout",
     "output_type": "stream",
     "text": [
      "1\n",
      "22\n",
      "333\n",
      "4444\n",
      "55555\n"
     ]
    }
   ],
   "source": [
    "#pattern 3\n",
    "i = 1\n",
    "while i <= 5:\n",
    "    j = 1\n",
    "    while j <= i:\n",
    "        print(i, end='')\n",
    "        j += 1\n",
    "    print()\n",
    "    i += 1"
   ]
  },
  {
   "cell_type": "code",
   "execution_count": 5,
   "id": "9ba1dc2c-e209-4290-9d1e-d234a9824b0e",
   "metadata": {},
   "outputs": [
    {
     "name": "stdout",
     "output_type": "stream",
     "text": [
      "10 9 8 7 6 5 4 3 2 1 "
     ]
    }
   ],
   "source": [
    "#Ans 7)\n",
    "i = 10\n",
    "while i>=1:\n",
    "    print(i,end=\" \")\n",
    "    i=i-1"
   ]
  },
  {
   "cell_type": "code",
   "execution_count": null,
   "id": "09d2ae8c-068f-45a8-a7b8-4a42571cd27b",
   "metadata": {},
   "outputs": [],
   "source": []
  }
 ],
 "metadata": {
  "kernelspec": {
   "display_name": "Python 3 (ipykernel)",
   "language": "python",
   "name": "python3"
  },
  "language_info": {
   "codemirror_mode": {
    "name": "ipython",
    "version": 3
   },
   "file_extension": ".py",
   "mimetype": "text/x-python",
   "name": "python",
   "nbconvert_exporter": "python",
   "pygments_lexer": "ipython3",
   "version": "3.10.8"
  }
 },
 "nbformat": 4,
 "nbformat_minor": 5
}
